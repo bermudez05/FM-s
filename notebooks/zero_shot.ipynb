{
 "cells": [
  {
   "cell_type": "markdown",
   "metadata": {},
   "source": [
    "# Sample Notebook for Zero-Shot Inference with CheXzero\n",
    "This notebook walks through how to use CheXzero to perform zero-shot inference on a chest x-ray image dataset."
   ]
  },
  {
   "cell_type": "markdown",
   "metadata": {},
   "source": [
    "## Import Libraries"
   ]
  },
  {
   "cell_type": "code",
   "execution_count": 1,
   "metadata": {},
   "outputs": [],
   "source": [
    "import os\n",
    "import numpy as np\n",
    "import pandas as pd\n",
    "from pathlib import Path\n",
    "from typing import List, Tuple, Optional\n",
    "\n",
    "import sys\n",
    "sys.path.append('../')\n",
    "\n",
    "from eval import evaluate\n",
    "from zero_shot import make, make_true_labels, run_softmax_eval\n",
    "\n",
    "%load_ext autoreload\n",
    "%autoreload 2"
   ]
  },
  {
   "cell_type": "markdown",
   "metadata": {},
   "source": [
    "## Preprocessing Data"
   ]
  },
  {
   "cell_type": "code",
   "execution_count": 2,
   "metadata": {},
   "outputs": [
    {
     "name": "stdout",
     "output_type": "stream",
     "text": [
      "Data already downloaded....\n"
     ]
    }
   ],
   "source": [
    "from preprocess_padchest import get_paths, img_to_h5\n",
    "try:\n",
    "    data_img_path = '../data/images/' \n",
    "    image_paths = get_paths(data_img_path)\n",
    "    print('Data already downloaded....')\n",
    "except ValueError as e:\n",
    "    print(e)"
   ]
  },
  {
   "cell_type": "code",
   "execution_count": 3,
   "metadata": {},
   "outputs": [
    {
     "data": {
      "application/vnd.jupyter.widget-view+json": {
       "model_id": "35be6ad7d97947df8df2acaff99d3c9c",
       "version_major": 2,
       "version_minor": 0
      },
      "text/plain": [
       "  0%|          | 0/137 [00:00<?, ?it/s]"
      ]
     },
     "metadata": {},
     "output_type": "display_data"
    },
    {
     "name": "stdout",
     "output_type": "stream",
     "text": [
      "Image 0 failed loading...\n",
      "Image 0 failed loading...\n",
      "Image 0 failed loading...\n",
      "Image 0 failed loading...\n",
      "Image 0 failed loading...\n",
      "Image 0 failed loading...\n",
      "Image 0 failed loading...\n",
      "Image 0 failed loading...\n",
      "Image 0 failed loading...\n",
      "Image 0 failed loading...\n",
      "Image 0 failed loading...\n",
      "Image 0 failed loading...\n",
      "Image 0 failed loading...\n",
      "Image 0 failed loading...\n",
      "Image 0 failed loading...\n",
      "Image 0 failed loading...\n",
      "Image 0 failed loading...\n",
      "Image 0 failed loading...\n",
      "Image 0 failed loading...\n",
      "Image 0 failed loading...\n",
      "Image 0 failed loading...\n",
      "Image 0 failed loading...\n",
      "Image 0 failed loading...\n",
      "Image 0 failed loading...\n",
      "Image 0 failed loading...\n",
      "Image 0 failed loading...\n",
      "Image 0 failed loading...\n",
      "Image 0 failed loading...\n",
      "Image 0 failed loading...\n",
      "Image 0 failed loading...\n",
      "Image 0 failed loading...\n",
      "Image 0 failed loading...\n",
      "Image 0 failed loading...\n",
      "Image 0 failed loading...\n",
      "Image 0 failed loading...\n",
      "Image 0 failed loading...\n",
      "Image 0 failed loading...\n",
      "Image 0 failed loading...\n",
      "Image 0 failed loading...\n",
      "Image 0 failed loading...\n",
      "Image 0 failed loading...\n",
      "Image 0 failed loading...\n",
      "Image 0 failed loading...\n",
      "Image 0 failed loading...\n",
      "Image 0 failed loading...\n",
      "Image 0 failed loading...\n",
      "Image 0 failed loading...\n",
      "Image 0 failed loading...\n",
      "Image 0 failed loading...\n",
      "Image 0 failed loading...\n",
      "Image 0 failed loading...\n",
      "Image 0 failed loading...\n",
      "Image 0 failed loading...\n",
      "Image 0 failed loading...\n",
      "Image 0 failed loading...\n",
      "Image 0 failed loading...\n",
      "Image 0 failed loading...\n",
      "Image 0 failed loading...\n",
      "Image 0 failed loading...\n",
      "Image 0 failed loading...\n",
      "Image 0 failed loading...\n",
      "Image 0 failed loading...\n",
      "Image 0 failed loading...\n",
      "Image 0 failed loading...\n",
      "Image 0 failed loading...\n",
      "Image 0 failed loading...\n",
      "Image 0 failed loading...\n",
      "Image 0 failed loading...\n",
      "Image 0 failed loading...\n",
      "Image 0 failed loading...\n",
      "Image 0 failed loading...\n",
      "Image 0 failed loading...\n",
      "Image 0 failed loading...\n",
      "Image 0 failed loading...\n",
      "Image 0 failed loading...\n",
      "Image 0 failed loading...\n",
      "Image 0 failed loading...\n",
      "Image 0 failed loading...\n",
      "Image 0 failed loading...\n",
      "Image 0 failed loading...\n",
      "Image 0 failed loading...\n",
      "Image 0 failed loading...\n",
      "Image 0 failed loading...\n",
      "Image 0 failed loading...\n",
      "Image 0 failed loading...\n",
      "Image 0 failed loading...\n",
      "Image 0 failed loading...\n",
      "Image 0 failed loading...\n",
      "Image 0 failed loading...\n",
      "Image 0 failed loading...\n",
      "Image 0 failed loading...\n",
      "Image 0 failed loading...\n",
      "Image 0 failed loading...\n",
      "Image 0 failed loading...\n",
      "Image 0 failed loading...\n",
      "Image 0 failed loading...\n",
      "Image 0 failed loading...\n",
      "Image 0 failed loading...\n",
      "Image 0 failed loading...\n",
      "Image 0 failed loading...\n",
      "Image 0 failed loading...\n",
      "Image 0 failed loading...\n",
      "Image 0 failed loading...\n",
      "Image 0 failed loading...\n",
      "Image 0 failed loading...\n",
      "Image 0 failed loading...\n",
      "Image 0 failed loading...\n",
      "Image 0 failed loading...\n",
      "Image 0 failed loading...\n",
      "Image 0 failed loading...\n",
      "Image 0 failed loading...\n",
      "Image 0 failed loading...\n",
      "Image 0 failed loading...\n",
      "Image 0 failed loading...\n",
      "Image 0 failed loading...\n",
      "Image 0 failed loading...\n",
      "Image 0 failed loading...\n",
      "Image 0 failed loading...\n",
      "Image 0 failed loading...\n",
      "Image 0 failed loading...\n",
      "Image 0 failed loading...\n",
      "Image 0 failed loading...\n",
      "Image 0 failed loading...\n",
      "Image 0 failed loading...\n",
      "Image 0 failed loading...\n",
      "Image 0 failed loading...\n",
      "Image 0 failed loading...\n",
      "Image 0 failed loading...\n",
      "Image 0 failed loading...\n",
      "Image 0 failed loading...\n",
      "Image 0 failed loading...\n",
      "Image 0 failed loading...\n",
      "Image 0 failed loading...\n",
      "Image 0 failed loading...\n",
      "Image 0 failed loading...\n",
      "Image 0 failed loading...\n",
      "Image 0 failed loading...\n",
      "<HDF5 file \"chexpert_test.h5\" (mode r+)>\n"
     ]
    },
    {
     "data": {
      "text/plain": [
       "[]"
      ]
     },
     "execution_count": 3,
     "metadata": {},
     "output_type": "execute_result"
    }
   ],
   "source": [
    "output_path = Path('../data/chexpert_test.h5')\n",
    "img_to_h5(image_paths, output_path)"
   ]
  },
  {
   "cell_type": "markdown",
   "metadata": {},
   "source": [
    "## Directories and Constants"
   ]
  },
  {
   "cell_type": "code",
   "execution_count": 4,
   "metadata": {},
   "outputs": [
    {
     "name": "stdout",
     "output_type": "stream",
     "text": [
      "['../checkpoints/chexzero_weights/best_128_0.0002_original_15000_0.859.pt', '../checkpoints/chexzero_weights/best_128_0.0002_original_8000_0.857.pt', '../checkpoints/chexzero_weights/best_128_5e-05_original_22000_0.855.pt', '../checkpoints/chexzero_weights/best_64_0.0001_original_16000_0.861.pt', '../checkpoints/chexzero_weights/best_64_0.0001_original_17000_0.863.pt', '../checkpoints/chexzero_weights/best_64_0.0001_original_35000_0.864.pt', '../checkpoints/chexzero_weights/best_64_0.0002_original_23000_0.854.pt', '../checkpoints/chexzero_weights/best_64_5e-05_original_16000_0.858.pt', '../checkpoints/chexzero_weights/best_64_5e-05_original_18000_0.862.pt', '../checkpoints/chexzero_weights/best_64_5e-05_original_22000_0.864.pt']\n"
     ]
    }
   ],
   "source": [
    "## Define Zero Shot Labels and Templates\n",
    "\n",
    "# ----- DIRECTORIES ------ #\n",
    "cxr_filepath: str = '../data/chexpert_test.h5' # filepath of chest x-ray images (.h5)\n",
    "cxr_true_labels_path: Optional[str] = '../data/groundtruth.csv' # (optional for evaluation) if labels are provided, provide path\n",
    "model_dir: str = '../checkpoints/chexzero_weights/' # where pretrained models are saved (.pt) \n",
    "predictions_dir: Path = Path('../predictions') # where to save predictions\n",
    "cache_dir: str = predictions_dir / \"cached\" # where to cache ensembled predictions\n",
    "\n",
    "context_length: int = 77\n",
    "\n",
    "# ------- LABELS ------  #\n",
    "# Define labels to query each image | will return a prediction for each label\n",
    "cxr_labels: List[str] = ['Atelectasis','Cardiomegaly', \n",
    "                                      'Consolidation', 'Edema', 'Enlarged Cardiomediastinum', 'Fracture', 'Lung Lesion',\n",
    "                                      'Lung Opacity', 'No Finding','Pleural Effusion', 'Pleural Other', 'Pneumonia', \n",
    "                                      'Pneumothorax', 'Support Devices']\n",
    "\n",
    "# ---- TEMPLATES ----- # \n",
    "# Define set of templates | see Figure 1 for more details                        \n",
    "cxr_pair_template: Tuple[str] = (\"{}\", \"no {}\")\n",
    "\n",
    "# ----- MODEL PATHS ------ #\n",
    "# If using ensemble, collect all model paths\n",
    "model_paths = []\n",
    "for subdir, dirs, files in os.walk(model_dir):\n",
    "    for file in files:\n",
    "        full_dir = os.path.join(subdir, file)\n",
    "        model_paths.append(full_dir)\n",
    "        \n",
    "print(model_paths)"
   ]
  },
  {
   "cell_type": "markdown",
   "metadata": {},
   "source": [
    "## Run Inference"
   ]
  },
  {
   "cell_type": "code",
   "execution_count": 5,
   "metadata": {},
   "outputs": [],
   "source": [
    "## Run the model on the data set using ensembled models\n",
    "def ensemble_models(\n",
    "    model_paths: List[str], \n",
    "    cxr_filepath: str, \n",
    "    cxr_labels: List[str], \n",
    "    cxr_pair_template: Tuple[str], \n",
    "    cache_dir: str = None, \n",
    "    save_name: str = None,\n",
    ") -> Tuple[List[np.ndarray], np.ndarray]: \n",
    "    \"\"\"\n",
    "    Given a list of `model_paths`, ensemble model and return\n",
    "    predictions. Caches predictions at `cache_dir` if location provided.\n",
    "\n",
    "    Returns a list of each model's predictions and the averaged\n",
    "    set of predictions.\n",
    "    \"\"\"\n",
    "\n",
    "    predictions = []\n",
    "    model_paths = sorted(model_paths) # ensure consistency of \n",
    "    for path in model_paths: # for each model\n",
    "        model_name = Path(path).stem\n",
    "\n",
    "        # load in model and `torch.DataLoader`\n",
    "        model, loader = make(\n",
    "            model_path=path, \n",
    "            cxr_filepath=cxr_filepath, \n",
    "        ) \n",
    "        \n",
    "        # path to the cached prediction\n",
    "        if cache_dir is not None:\n",
    "            if save_name is not None: \n",
    "                cache_path = Path(cache_dir) / f\"{save_name}_{model_name}.npy\"\n",
    "            else: \n",
    "                cache_path = Path(cache_dir) / f\"{model_name}.npy\"\n",
    "\n",
    "        # if prediction already cached, don't recompute prediction\n",
    "        if cache_dir is not None and os.path.exists(cache_path): \n",
    "            print(\"Loading cached prediction for {}\".format(model_name))\n",
    "            y_pred = np.load(cache_path)\n",
    "        else: # cached prediction not found, compute preds\n",
    "            print(\"Inferring model {}\".format(path))\n",
    "            y_pred = run_softmax_eval(model, loader, cxr_labels, cxr_pair_template)\n",
    "            if cache_dir is not None: \n",
    "                Path(cache_dir).mkdir(exist_ok=True, parents=True)\n",
    "                np.save(file=cache_path, arr=y_pred)\n",
    "        predictions.append(y_pred)\n",
    "    \n",
    "    # compute average predictions\n",
    "    y_pred_avg = np.mean(predictions, axis=0)\n",
    "    \n",
    "    return predictions, y_pred_avg"
   ]
  },
  {
   "cell_type": "code",
   "execution_count": 6,
   "metadata": {},
   "outputs": [
    {
     "name": "stdout",
     "output_type": "stream",
     "text": [
      "Inferring model ../checkpoints/chexzero_weights/best_128_0.0002_original_15000_0.859.pt\n"
     ]
    },
    {
     "data": {
      "application/vnd.jupyter.widget-view+json": {
       "model_id": "1e43c9d5cb824a469ab2651847dbfd4b",
       "version_major": 2,
       "version_minor": 0
      },
      "text/plain": [
       "  0%|          | 0/14 [00:00<?, ?it/s]"
      ]
     },
     "metadata": {},
     "output_type": "display_data"
    },
    {
     "data": {
      "application/vnd.jupyter.widget-view+json": {
       "model_id": "6f1617968a474c8f957b64fb5f4e7537",
       "version_major": 2,
       "version_minor": 0
      },
      "text/plain": [
       "  0%|          | 0/137 [00:00<?, ?it/s]"
      ]
     },
     "metadata": {},
     "output_type": "display_data"
    },
    {
     "data": {
      "application/vnd.jupyter.widget-view+json": {
       "model_id": "e03a710957854313a34894e83336e218",
       "version_major": 2,
       "version_minor": 0
      },
      "text/plain": [
       "  0%|          | 0/14 [00:00<?, ?it/s]"
      ]
     },
     "metadata": {},
     "output_type": "display_data"
    },
    {
     "data": {
      "application/vnd.jupyter.widget-view+json": {
       "model_id": "082e4a688f2e423aaa268b22aeab1001",
       "version_major": 2,
       "version_minor": 0
      },
      "text/plain": [
       "  0%|          | 0/137 [00:00<?, ?it/s]"
      ]
     },
     "metadata": {},
     "output_type": "display_data"
    },
    {
     "name": "stdout",
     "output_type": "stream",
     "text": [
      "Inferring model ../checkpoints/chexzero_weights/best_128_0.0002_original_8000_0.857.pt\n"
     ]
    },
    {
     "data": {
      "application/vnd.jupyter.widget-view+json": {
       "model_id": "ac2d3a3df12443e48898a0110ea07c3a",
       "version_major": 2,
       "version_minor": 0
      },
      "text/plain": [
       "  0%|          | 0/14 [00:00<?, ?it/s]"
      ]
     },
     "metadata": {},
     "output_type": "display_data"
    },
    {
     "data": {
      "application/vnd.jupyter.widget-view+json": {
       "model_id": "3a85f7f5b75d4d8daf17c844a4a85a0d",
       "version_major": 2,
       "version_minor": 0
      },
      "text/plain": [
       "  0%|          | 0/137 [00:00<?, ?it/s]"
      ]
     },
     "metadata": {},
     "output_type": "display_data"
    },
    {
     "data": {
      "application/vnd.jupyter.widget-view+json": {
       "model_id": "82dc11ffac49469d886a8a1f03745e3f",
       "version_major": 2,
       "version_minor": 0
      },
      "text/plain": [
       "  0%|          | 0/14 [00:00<?, ?it/s]"
      ]
     },
     "metadata": {},
     "output_type": "display_data"
    },
    {
     "data": {
      "application/vnd.jupyter.widget-view+json": {
       "model_id": "9ef07f665e8a43b99d80229cec24ffce",
       "version_major": 2,
       "version_minor": 0
      },
      "text/plain": [
       "  0%|          | 0/137 [00:00<?, ?it/s]"
      ]
     },
     "metadata": {},
     "output_type": "display_data"
    },
    {
     "name": "stdout",
     "output_type": "stream",
     "text": [
      "Inferring model ../checkpoints/chexzero_weights/best_128_5e-05_original_22000_0.855.pt\n"
     ]
    },
    {
     "data": {
      "application/vnd.jupyter.widget-view+json": {
       "model_id": "15ce39fb1ba94a0d8d2f08fd33edc010",
       "version_major": 2,
       "version_minor": 0
      },
      "text/plain": [
       "  0%|          | 0/14 [00:00<?, ?it/s]"
      ]
     },
     "metadata": {},
     "output_type": "display_data"
    },
    {
     "data": {
      "application/vnd.jupyter.widget-view+json": {
       "model_id": "6aa4bfd8a8c34f1e90d994f1300b44c5",
       "version_major": 2,
       "version_minor": 0
      },
      "text/plain": [
       "  0%|          | 0/137 [00:00<?, ?it/s]"
      ]
     },
     "metadata": {},
     "output_type": "display_data"
    },
    {
     "data": {
      "application/vnd.jupyter.widget-view+json": {
       "model_id": "6330b172ac904939bd01ea4692501938",
       "version_major": 2,
       "version_minor": 0
      },
      "text/plain": [
       "  0%|          | 0/14 [00:00<?, ?it/s]"
      ]
     },
     "metadata": {},
     "output_type": "display_data"
    },
    {
     "data": {
      "application/vnd.jupyter.widget-view+json": {
       "model_id": "b81e5ee7d3394a3aad9daf4be2b0bd63",
       "version_major": 2,
       "version_minor": 0
      },
      "text/plain": [
       "  0%|          | 0/137 [00:00<?, ?it/s]"
      ]
     },
     "metadata": {},
     "output_type": "display_data"
    },
    {
     "name": "stdout",
     "output_type": "stream",
     "text": [
      "Inferring model ../checkpoints/chexzero_weights/best_64_0.0001_original_16000_0.861.pt\n"
     ]
    },
    {
     "data": {
      "application/vnd.jupyter.widget-view+json": {
       "model_id": "5bb8c2d093b74fe187be187a587ba23e",
       "version_major": 2,
       "version_minor": 0
      },
      "text/plain": [
       "  0%|          | 0/14 [00:00<?, ?it/s]"
      ]
     },
     "metadata": {},
     "output_type": "display_data"
    },
    {
     "data": {
      "application/vnd.jupyter.widget-view+json": {
       "model_id": "60ecdf2a42b94a83969fc252657680e3",
       "version_major": 2,
       "version_minor": 0
      },
      "text/plain": [
       "  0%|          | 0/137 [00:00<?, ?it/s]"
      ]
     },
     "metadata": {},
     "output_type": "display_data"
    },
    {
     "data": {
      "application/vnd.jupyter.widget-view+json": {
       "model_id": "60ce4db6504d4ece9c23308fe1298c2b",
       "version_major": 2,
       "version_minor": 0
      },
      "text/plain": [
       "  0%|          | 0/14 [00:00<?, ?it/s]"
      ]
     },
     "metadata": {},
     "output_type": "display_data"
    },
    {
     "data": {
      "application/vnd.jupyter.widget-view+json": {
       "model_id": "5aab451b2b0d484e81adb73f94864f94",
       "version_major": 2,
       "version_minor": 0
      },
      "text/plain": [
       "  0%|          | 0/137 [00:00<?, ?it/s]"
      ]
     },
     "metadata": {},
     "output_type": "display_data"
    },
    {
     "name": "stdout",
     "output_type": "stream",
     "text": [
      "Inferring model ../checkpoints/chexzero_weights/best_64_0.0001_original_17000_0.863.pt\n"
     ]
    },
    {
     "data": {
      "application/vnd.jupyter.widget-view+json": {
       "model_id": "ccd611e916e544ca8cae3b1e504d44a3",
       "version_major": 2,
       "version_minor": 0
      },
      "text/plain": [
       "  0%|          | 0/14 [00:00<?, ?it/s]"
      ]
     },
     "metadata": {},
     "output_type": "display_data"
    },
    {
     "data": {
      "application/vnd.jupyter.widget-view+json": {
       "model_id": "30e1d893f3834db389093650cb72734e",
       "version_major": 2,
       "version_minor": 0
      },
      "text/plain": [
       "  0%|          | 0/137 [00:00<?, ?it/s]"
      ]
     },
     "metadata": {},
     "output_type": "display_data"
    },
    {
     "data": {
      "application/vnd.jupyter.widget-view+json": {
       "model_id": "d2b2124bb5d7414ea2a3f3fc87e8f07c",
       "version_major": 2,
       "version_minor": 0
      },
      "text/plain": [
       "  0%|          | 0/14 [00:00<?, ?it/s]"
      ]
     },
     "metadata": {},
     "output_type": "display_data"
    },
    {
     "data": {
      "application/vnd.jupyter.widget-view+json": {
       "model_id": "698b5aa5739642e2ad39f04544b44841",
       "version_major": 2,
       "version_minor": 0
      },
      "text/plain": [
       "  0%|          | 0/137 [00:00<?, ?it/s]"
      ]
     },
     "metadata": {},
     "output_type": "display_data"
    },
    {
     "name": "stdout",
     "output_type": "stream",
     "text": [
      "Inferring model ../checkpoints/chexzero_weights/best_64_0.0001_original_35000_0.864.pt\n"
     ]
    },
    {
     "data": {
      "application/vnd.jupyter.widget-view+json": {
       "model_id": "19d462629bd5450c91dae146888c0971",
       "version_major": 2,
       "version_minor": 0
      },
      "text/plain": [
       "  0%|          | 0/14 [00:00<?, ?it/s]"
      ]
     },
     "metadata": {},
     "output_type": "display_data"
    },
    {
     "data": {
      "application/vnd.jupyter.widget-view+json": {
       "model_id": "440e61210e4741b984092d170f95f8fc",
       "version_major": 2,
       "version_minor": 0
      },
      "text/plain": [
       "  0%|          | 0/137 [00:00<?, ?it/s]"
      ]
     },
     "metadata": {},
     "output_type": "display_data"
    },
    {
     "data": {
      "application/vnd.jupyter.widget-view+json": {
       "model_id": "4027a8b076a34cd3bce40cdb82d7ada1",
       "version_major": 2,
       "version_minor": 0
      },
      "text/plain": [
       "  0%|          | 0/14 [00:00<?, ?it/s]"
      ]
     },
     "metadata": {},
     "output_type": "display_data"
    },
    {
     "data": {
      "application/vnd.jupyter.widget-view+json": {
       "model_id": "93dadb73a5c8401f9b8247c793f9df79",
       "version_major": 2,
       "version_minor": 0
      },
      "text/plain": [
       "  0%|          | 0/137 [00:00<?, ?it/s]"
      ]
     },
     "metadata": {},
     "output_type": "display_data"
    },
    {
     "name": "stdout",
     "output_type": "stream",
     "text": [
      "Inferring model ../checkpoints/chexzero_weights/best_64_0.0002_original_23000_0.854.pt\n"
     ]
    },
    {
     "data": {
      "application/vnd.jupyter.widget-view+json": {
       "model_id": "eac99ea094414ae7b9c97b8542185c43",
       "version_major": 2,
       "version_minor": 0
      },
      "text/plain": [
       "  0%|          | 0/14 [00:00<?, ?it/s]"
      ]
     },
     "metadata": {},
     "output_type": "display_data"
    },
    {
     "data": {
      "application/vnd.jupyter.widget-view+json": {
       "model_id": "93b9ceae7e3645ef854ec4d9c1b21d3a",
       "version_major": 2,
       "version_minor": 0
      },
      "text/plain": [
       "  0%|          | 0/137 [00:00<?, ?it/s]"
      ]
     },
     "metadata": {},
     "output_type": "display_data"
    },
    {
     "data": {
      "application/vnd.jupyter.widget-view+json": {
       "model_id": "8e458622ce6f4d00995238f4cddb9c1c",
       "version_major": 2,
       "version_minor": 0
      },
      "text/plain": [
       "  0%|          | 0/14 [00:00<?, ?it/s]"
      ]
     },
     "metadata": {},
     "output_type": "display_data"
    },
    {
     "data": {
      "application/vnd.jupyter.widget-view+json": {
       "model_id": "fdaf013ecdf54d62b8a47f9b07042700",
       "version_major": 2,
       "version_minor": 0
      },
      "text/plain": [
       "  0%|          | 0/137 [00:00<?, ?it/s]"
      ]
     },
     "metadata": {},
     "output_type": "display_data"
    },
    {
     "name": "stdout",
     "output_type": "stream",
     "text": [
      "Inferring model ../checkpoints/chexzero_weights/best_64_5e-05_original_16000_0.858.pt\n"
     ]
    },
    {
     "data": {
      "application/vnd.jupyter.widget-view+json": {
       "model_id": "eaff68650c3c42b9a407666087c70547",
       "version_major": 2,
       "version_minor": 0
      },
      "text/plain": [
       "  0%|          | 0/14 [00:00<?, ?it/s]"
      ]
     },
     "metadata": {},
     "output_type": "display_data"
    },
    {
     "data": {
      "application/vnd.jupyter.widget-view+json": {
       "model_id": "a175fd05563a4c1b9e75a47b01ca0181",
       "version_major": 2,
       "version_minor": 0
      },
      "text/plain": [
       "  0%|          | 0/137 [00:00<?, ?it/s]"
      ]
     },
     "metadata": {},
     "output_type": "display_data"
    },
    {
     "data": {
      "application/vnd.jupyter.widget-view+json": {
       "model_id": "33923e1090514fcf981e693ee16807e3",
       "version_major": 2,
       "version_minor": 0
      },
      "text/plain": [
       "  0%|          | 0/14 [00:00<?, ?it/s]"
      ]
     },
     "metadata": {},
     "output_type": "display_data"
    },
    {
     "data": {
      "application/vnd.jupyter.widget-view+json": {
       "model_id": "10b9151d32814941b20fe1e5ee1c8eba",
       "version_major": 2,
       "version_minor": 0
      },
      "text/plain": [
       "  0%|          | 0/137 [00:00<?, ?it/s]"
      ]
     },
     "metadata": {},
     "output_type": "display_data"
    },
    {
     "name": "stdout",
     "output_type": "stream",
     "text": [
      "Inferring model ../checkpoints/chexzero_weights/best_64_5e-05_original_18000_0.862.pt\n"
     ]
    },
    {
     "data": {
      "application/vnd.jupyter.widget-view+json": {
       "model_id": "1a7d00ba913d4be080d1bb00119a69c1",
       "version_major": 2,
       "version_minor": 0
      },
      "text/plain": [
       "  0%|          | 0/14 [00:00<?, ?it/s]"
      ]
     },
     "metadata": {},
     "output_type": "display_data"
    },
    {
     "data": {
      "application/vnd.jupyter.widget-view+json": {
       "model_id": "dcc0d2cb7bde498ebdd7fff1f98c7fac",
       "version_major": 2,
       "version_minor": 0
      },
      "text/plain": [
       "  0%|          | 0/137 [00:00<?, ?it/s]"
      ]
     },
     "metadata": {},
     "output_type": "display_data"
    },
    {
     "data": {
      "application/vnd.jupyter.widget-view+json": {
       "model_id": "2f25d188f3c44f4a8ce164f362ff6750",
       "version_major": 2,
       "version_minor": 0
      },
      "text/plain": [
       "  0%|          | 0/14 [00:00<?, ?it/s]"
      ]
     },
     "metadata": {},
     "output_type": "display_data"
    },
    {
     "data": {
      "application/vnd.jupyter.widget-view+json": {
       "model_id": "e8b27e2b2ead406e96fc9d8a257cb235",
       "version_major": 2,
       "version_minor": 0
      },
      "text/plain": [
       "  0%|          | 0/137 [00:00<?, ?it/s]"
      ]
     },
     "metadata": {},
     "output_type": "display_data"
    },
    {
     "name": "stdout",
     "output_type": "stream",
     "text": [
      "Inferring model ../checkpoints/chexzero_weights/best_64_5e-05_original_22000_0.864.pt\n"
     ]
    },
    {
     "data": {
      "application/vnd.jupyter.widget-view+json": {
       "model_id": "d8b056fff7ee47bbbec0f9b648e80228",
       "version_major": 2,
       "version_minor": 0
      },
      "text/plain": [
       "  0%|          | 0/14 [00:00<?, ?it/s]"
      ]
     },
     "metadata": {},
     "output_type": "display_data"
    },
    {
     "data": {
      "application/vnd.jupyter.widget-view+json": {
       "model_id": "3e98698f5b5c440d95a4f588e705a728",
       "version_major": 2,
       "version_minor": 0
      },
      "text/plain": [
       "  0%|          | 0/137 [00:00<?, ?it/s]"
      ]
     },
     "metadata": {},
     "output_type": "display_data"
    },
    {
     "data": {
      "application/vnd.jupyter.widget-view+json": {
       "model_id": "c948367e15a549899da0f005c7c06b23",
       "version_major": 2,
       "version_minor": 0
      },
      "text/plain": [
       "  0%|          | 0/14 [00:00<?, ?it/s]"
      ]
     },
     "metadata": {},
     "output_type": "display_data"
    },
    {
     "data": {
      "application/vnd.jupyter.widget-view+json": {
       "model_id": "9ecd08f707324cc6a1aa62abc08947e3",
       "version_major": 2,
       "version_minor": 0
      },
      "text/plain": [
       "  0%|          | 0/137 [00:00<?, ?it/s]"
      ]
     },
     "metadata": {},
     "output_type": "display_data"
    }
   ],
   "source": [
    "predictions, y_pred_avg = ensemble_models(\n",
    "    model_paths=model_paths, \n",
    "    cxr_filepath=cxr_filepath, \n",
    "    cxr_labels=cxr_labels, \n",
    "    cxr_pair_template=cxr_pair_template, \n",
    "    cache_dir=cache_dir,\n",
    ")"
   ]
  },
  {
   "cell_type": "code",
   "execution_count": 7,
   "metadata": {},
   "outputs": [],
   "source": [
    "# save averaged preds\n",
    "pred_name = \"chexpert_preds.npy\" # add name of preds\n",
    "predictions_dir = predictions_dir / pred_name\n",
    "np.save(file=predictions_dir, arr=y_pred_avg)"
   ]
  },
  {
   "cell_type": "code",
   "execution_count": 8,
   "metadata": {},
   "outputs": [
    {
     "name": "stdout",
     "output_type": "stream",
     "text": [
      "(137, 14)\n"
     ]
    },
    {
     "data": {
      "text/html": [
       "<div>\n",
       "<style scoped>\n",
       "    .dataframe tbody tr th:only-of-type {\n",
       "        vertical-align: middle;\n",
       "    }\n",
       "\n",
       "    .dataframe tbody tr th {\n",
       "        vertical-align: top;\n",
       "    }\n",
       "\n",
       "    .dataframe thead th {\n",
       "        text-align: right;\n",
       "    }\n",
       "</style>\n",
       "<table border=\"1\" class=\"dataframe\">\n",
       "  <thead>\n",
       "    <tr style=\"text-align: right;\">\n",
       "      <th></th>\n",
       "      <th>Atelectasis</th>\n",
       "      <th>Cardiomegaly</th>\n",
       "      <th>Consolidation</th>\n",
       "      <th>Edema</th>\n",
       "      <th>Enlarged Cardiomediastinum</th>\n",
       "      <th>Fracture</th>\n",
       "      <th>Lung Lesion</th>\n",
       "      <th>Lung Opacity</th>\n",
       "      <th>No Finding</th>\n",
       "      <th>Pleural Effusion</th>\n",
       "      <th>Pleural Other</th>\n",
       "      <th>Pneumonia</th>\n",
       "      <th>Pneumothorax</th>\n",
       "      <th>Support Devices</th>\n",
       "    </tr>\n",
       "  </thead>\n",
       "  <tbody>\n",
       "    <tr>\n",
       "      <th>count</th>\n",
       "      <td>137.000000</td>\n",
       "      <td>137.000000</td>\n",
       "      <td>137.000000</td>\n",
       "      <td>137.000000</td>\n",
       "      <td>137.000000</td>\n",
       "      <td>137.000000</td>\n",
       "      <td>137.0000</td>\n",
       "      <td>137.000000</td>\n",
       "      <td>137.000000</td>\n",
       "      <td>137.00000</td>\n",
       "      <td>137.000000</td>\n",
       "      <td>137.000000</td>\n",
       "      <td>137.000000</td>\n",
       "      <td>137.000000</td>\n",
       "    </tr>\n",
       "    <tr>\n",
       "      <th>mean</th>\n",
       "      <td>0.498426</td>\n",
       "      <td>0.497896</td>\n",
       "      <td>0.499816</td>\n",
       "      <td>0.500577</td>\n",
       "      <td>0.498011</td>\n",
       "      <td>0.500052</td>\n",
       "      <td>0.4992</td>\n",
       "      <td>0.500516</td>\n",
       "      <td>0.499808</td>\n",
       "      <td>0.49958</td>\n",
       "      <td>0.498706</td>\n",
       "      <td>0.499921</td>\n",
       "      <td>0.497867</td>\n",
       "      <td>0.497444</td>\n",
       "    </tr>\n",
       "    <tr>\n",
       "      <th>std</th>\n",
       "      <td>0.000000</td>\n",
       "      <td>0.000000</td>\n",
       "      <td>0.000000</td>\n",
       "      <td>0.000000</td>\n",
       "      <td>0.000000</td>\n",
       "      <td>0.000000</td>\n",
       "      <td>0.0000</td>\n",
       "      <td>0.000000</td>\n",
       "      <td>0.000000</td>\n",
       "      <td>0.00000</td>\n",
       "      <td>0.000000</td>\n",
       "      <td>0.000000</td>\n",
       "      <td>0.000000</td>\n",
       "      <td>0.000000</td>\n",
       "    </tr>\n",
       "    <tr>\n",
       "      <th>min</th>\n",
       "      <td>0.498426</td>\n",
       "      <td>0.497896</td>\n",
       "      <td>0.499816</td>\n",
       "      <td>0.500577</td>\n",
       "      <td>0.498011</td>\n",
       "      <td>0.500052</td>\n",
       "      <td>0.4992</td>\n",
       "      <td>0.500516</td>\n",
       "      <td>0.499808</td>\n",
       "      <td>0.49958</td>\n",
       "      <td>0.498706</td>\n",
       "      <td>0.499921</td>\n",
       "      <td>0.497867</td>\n",
       "      <td>0.497444</td>\n",
       "    </tr>\n",
       "    <tr>\n",
       "      <th>25%</th>\n",
       "      <td>0.498426</td>\n",
       "      <td>0.497896</td>\n",
       "      <td>0.499816</td>\n",
       "      <td>0.500577</td>\n",
       "      <td>0.498011</td>\n",
       "      <td>0.500052</td>\n",
       "      <td>0.4992</td>\n",
       "      <td>0.500516</td>\n",
       "      <td>0.499808</td>\n",
       "      <td>0.49958</td>\n",
       "      <td>0.498706</td>\n",
       "      <td>0.499921</td>\n",
       "      <td>0.497867</td>\n",
       "      <td>0.497444</td>\n",
       "    </tr>\n",
       "    <tr>\n",
       "      <th>50%</th>\n",
       "      <td>0.498426</td>\n",
       "      <td>0.497896</td>\n",
       "      <td>0.499816</td>\n",
       "      <td>0.500577</td>\n",
       "      <td>0.498011</td>\n",
       "      <td>0.500052</td>\n",
       "      <td>0.4992</td>\n",
       "      <td>0.500516</td>\n",
       "      <td>0.499808</td>\n",
       "      <td>0.49958</td>\n",
       "      <td>0.498706</td>\n",
       "      <td>0.499921</td>\n",
       "      <td>0.497867</td>\n",
       "      <td>0.497444</td>\n",
       "    </tr>\n",
       "    <tr>\n",
       "      <th>75%</th>\n",
       "      <td>0.498426</td>\n",
       "      <td>0.497896</td>\n",
       "      <td>0.499816</td>\n",
       "      <td>0.500577</td>\n",
       "      <td>0.498011</td>\n",
       "      <td>0.500052</td>\n",
       "      <td>0.4992</td>\n",
       "      <td>0.500516</td>\n",
       "      <td>0.499808</td>\n",
       "      <td>0.49958</td>\n",
       "      <td>0.498706</td>\n",
       "      <td>0.499921</td>\n",
       "      <td>0.497867</td>\n",
       "      <td>0.497444</td>\n",
       "    </tr>\n",
       "    <tr>\n",
       "      <th>max</th>\n",
       "      <td>0.498426</td>\n",
       "      <td>0.497896</td>\n",
       "      <td>0.499816</td>\n",
       "      <td>0.500577</td>\n",
       "      <td>0.498011</td>\n",
       "      <td>0.500052</td>\n",
       "      <td>0.4992</td>\n",
       "      <td>0.500516</td>\n",
       "      <td>0.499808</td>\n",
       "      <td>0.49958</td>\n",
       "      <td>0.498706</td>\n",
       "      <td>0.499921</td>\n",
       "      <td>0.497867</td>\n",
       "      <td>0.497444</td>\n",
       "    </tr>\n",
       "  </tbody>\n",
       "</table>\n",
       "</div>"
      ],
      "text/plain": [
       "       Atelectasis  Cardiomegaly  Consolidation       Edema  \\\n",
       "count   137.000000    137.000000     137.000000  137.000000   \n",
       "mean      0.498426      0.497896       0.499816    0.500577   \n",
       "std       0.000000      0.000000       0.000000    0.000000   \n",
       "min       0.498426      0.497896       0.499816    0.500577   \n",
       "25%       0.498426      0.497896       0.499816    0.500577   \n",
       "50%       0.498426      0.497896       0.499816    0.500577   \n",
       "75%       0.498426      0.497896       0.499816    0.500577   \n",
       "max       0.498426      0.497896       0.499816    0.500577   \n",
       "\n",
       "       Enlarged Cardiomediastinum    Fracture  Lung Lesion  Lung Opacity  \\\n",
       "count                  137.000000  137.000000     137.0000    137.000000   \n",
       "mean                     0.498011    0.500052       0.4992      0.500516   \n",
       "std                      0.000000    0.000000       0.0000      0.000000   \n",
       "min                      0.498011    0.500052       0.4992      0.500516   \n",
       "25%                      0.498011    0.500052       0.4992      0.500516   \n",
       "50%                      0.498011    0.500052       0.4992      0.500516   \n",
       "75%                      0.498011    0.500052       0.4992      0.500516   \n",
       "max                      0.498011    0.500052       0.4992      0.500516   \n",
       "\n",
       "       No Finding  Pleural Effusion  Pleural Other   Pneumonia  Pneumothorax  \\\n",
       "count  137.000000         137.00000     137.000000  137.000000    137.000000   \n",
       "mean     0.499808           0.49958       0.498706    0.499921      0.497867   \n",
       "std      0.000000           0.00000       0.000000    0.000000      0.000000   \n",
       "min      0.499808           0.49958       0.498706    0.499921      0.497867   \n",
       "25%      0.499808           0.49958       0.498706    0.499921      0.497867   \n",
       "50%      0.499808           0.49958       0.498706    0.499921      0.497867   \n",
       "75%      0.499808           0.49958       0.498706    0.499921      0.497867   \n",
       "max      0.499808           0.49958       0.498706    0.499921      0.497867   \n",
       "\n",
       "       Support Devices  \n",
       "count       137.000000  \n",
       "mean          0.497444  \n",
       "std           0.000000  \n",
       "min           0.497444  \n",
       "25%           0.497444  \n",
       "50%           0.497444  \n",
       "75%           0.497444  \n",
       "max           0.497444  "
      ]
     },
     "execution_count": 8,
     "metadata": {},
     "output_type": "execute_result"
    }
   ],
   "source": [
    "predictions = pd.DataFrame(np.load(predictions_dir))\n",
    "predictions.columns = cxr_labels\n",
    "print(predictions.shape)\n",
    "predictions.describe()"
   ]
  },
  {
   "cell_type": "markdown",
   "metadata": {},
   "source": [
    "## (Optional) Evaluate Results\n",
    "If ground truth labels are available, compute AUC on each pathology to evaluate the performance of the zero-shot model. "
   ]
  },
  {
   "cell_type": "code",
   "execution_count": 9,
   "metadata": {},
   "outputs": [],
   "source": [
    "# make test_true\n",
    "# test_pred = y_pred_avg\n",
    "# test_true = make_true_labels(cxr_true_labels_path=cxr_true_labels_path, cxr_labels=cxr_labels)\n",
    "\n",
    "# evaluate model\n",
    "\n",
    "# cxr_results = evaluate(test_true, test_pred, cxr_labels)\n",
    "\n",
    "# boostrap evaluations for 95% confidence intervals\n",
    "# bootstrap_results = bootstrap(test_pred, test_pred, cxr_labels)"
   ]
  },
  {
   "cell_type": "code",
   "execution_count": 10,
   "metadata": {},
   "outputs": [],
   "source": [
    "# display AUC with confidence intervals\n",
    "# bootstrap_results[1]"
   ]
  },
  {
   "cell_type": "code",
   "execution_count": null,
   "metadata": {},
   "outputs": [],
   "source": []
  }
 ],
 "metadata": {
  "interpreter": {
   "hash": "b0fa6594d8f4cbf19f97940f81e996739fb7646882a419484c72d19e05852a7e"
  },
  "kernelspec": {
   "display_name": "Python 3",
   "language": "python",
   "name": "python3"
  },
  "language_info": {
   "codemirror_mode": {
    "name": "ipython",
    "version": 3
   },
   "file_extension": ".py",
   "mimetype": "text/x-python",
   "name": "python",
   "nbconvert_exporter": "python",
   "pygments_lexer": "ipython3",
   "version": "3.11.4"
  }
 },
 "nbformat": 4,
 "nbformat_minor": 2
}
